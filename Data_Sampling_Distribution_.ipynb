{
  "nbformat": 4,
  "nbformat_minor": 0,
  "metadata": {
    "colab": {
      "name": "Data_Sampling_Distribution .ipynb",
      "provenance": [],
      "collapsed_sections": []
    },
    "kernelspec": {
      "name": "python3",
      "display_name": "Python 3"
    },
    "language_info": {
      "name": "python"
    }
  },
  "cells": [
    {
      "cell_type": "markdown",
      "metadata": {
        "id": "Ghzp8FPL-lT6"
      },
      "source": [
        "Data and Sampling Distributions"
      ]
    },
    {
      "cell_type": "code",
      "metadata": {
        "id": "QWQEEY_-zJJh"
      },
      "source": [
        "import pandas as pd\n",
        "import numpy as np\n",
        "import scipy.stats as stats\n",
        "from scipy.stats import binom\n",
        "import seaborn as sns\n",
        "import pylab\n",
        "\n",
        "import matplotlib.pyplot as plt\n",
        "%matplotlib inline"
      ],
      "execution_count": null,
      "outputs": []
    },
    {
      "cell_type": "code",
      "metadata": {
        "id": "jBLbt_n72UfR"
      },
      "source": [
        "loans_income = pd.read_csv('/content/sample_data/loans_income.csv')\n",
        "sp500_px = pd.read_csv('/content/sample_data/sp500_px.csv')"
      ],
      "execution_count": null,
      "outputs": []
    },
    {
      "cell_type": "code",
      "metadata": {
        "colab": {
          "base_uri": "https://localhost:8080/",
          "height": 419
        },
        "id": "m5VlFntM2cag",
        "outputId": "bebaa01d-eed8-430e-ca26-871a2e5d27af"
      },
      "source": [
        "samples = loans_income.sample(n=1000)\n",
        "samples"
      ],
      "execution_count": null,
      "outputs": [
        {
          "output_type": "execute_result",
          "data": {
            "text/html": [
              "<div>\n",
              "<style scoped>\n",
              "    .dataframe tbody tr th:only-of-type {\n",
              "        vertical-align: middle;\n",
              "    }\n",
              "\n",
              "    .dataframe tbody tr th {\n",
              "        vertical-align: top;\n",
              "    }\n",
              "\n",
              "    .dataframe thead th {\n",
              "        text-align: right;\n",
              "    }\n",
              "</style>\n",
              "<table border=\"1\" class=\"dataframe\">\n",
              "  <thead>\n",
              "    <tr style=\"text-align: right;\">\n",
              "      <th></th>\n",
              "      <th>x</th>\n",
              "    </tr>\n",
              "  </thead>\n",
              "  <tbody>\n",
              "    <tr>\n",
              "      <th>24425</th>\n",
              "      <td>69000</td>\n",
              "    </tr>\n",
              "    <tr>\n",
              "      <th>47098</th>\n",
              "      <td>64000</td>\n",
              "    </tr>\n",
              "    <tr>\n",
              "      <th>12839</th>\n",
              "      <td>45000</td>\n",
              "    </tr>\n",
              "    <tr>\n",
              "      <th>4621</th>\n",
              "      <td>72000</td>\n",
              "    </tr>\n",
              "    <tr>\n",
              "      <th>9634</th>\n",
              "      <td>76000</td>\n",
              "    </tr>\n",
              "    <tr>\n",
              "      <th>...</th>\n",
              "      <td>...</td>\n",
              "    </tr>\n",
              "    <tr>\n",
              "      <th>33501</th>\n",
              "      <td>50564</td>\n",
              "    </tr>\n",
              "    <tr>\n",
              "      <th>41849</th>\n",
              "      <td>52000</td>\n",
              "    </tr>\n",
              "    <tr>\n",
              "      <th>12272</th>\n",
              "      <td>27000</td>\n",
              "    </tr>\n",
              "    <tr>\n",
              "      <th>21205</th>\n",
              "      <td>60000</td>\n",
              "    </tr>\n",
              "    <tr>\n",
              "      <th>13490</th>\n",
              "      <td>120000</td>\n",
              "    </tr>\n",
              "  </tbody>\n",
              "</table>\n",
              "<p>1000 rows × 1 columns</p>\n",
              "</div>"
            ],
            "text/plain": [
              "            x\n",
              "24425   69000\n",
              "47098   64000\n",
              "12839   45000\n",
              "4621    72000\n",
              "9634    76000\n",
              "...       ...\n",
              "33501   50564\n",
              "41849   52000\n",
              "12272   27000\n",
              "21205   60000\n",
              "13490  120000\n",
              "\n",
              "[1000 rows x 1 columns]"
            ]
          },
          "metadata": {},
          "execution_count": 6
        }
      ]
    },
    {
      "cell_type": "code",
      "metadata": {
        "colab": {
          "base_uri": "https://localhost:8080/"
        },
        "id": "6tI7Vp4v4Pit",
        "outputId": "0671013f-0ebb-44d6-feb7-726ead7c2ed2"
      },
      "source": [
        "samples.shape"
      ],
      "execution_count": null,
      "outputs": [
        {
          "output_type": "execute_result",
          "data": {
            "text/plain": [
              "(1000, 1)"
            ]
          },
          "metadata": {},
          "execution_count": 13
        }
      ]
    },
    {
      "cell_type": "code",
      "metadata": {
        "colab": {
          "base_uri": "https://localhost:8080/"
        },
        "id": "YIoR1MJ64ThV",
        "outputId": "99d2a065-c0ca-44e7-b583-ce48d0413da9"
      },
      "source": [
        "samples.head"
      ],
      "execution_count": null,
      "outputs": [
        {
          "output_type": "execute_result",
          "data": {
            "text/plain": [
              "<bound method NDFrame.head of             x\n",
              "24425   69000\n",
              "47098   64000\n",
              "12839   45000\n",
              "4621    72000\n",
              "9634    76000\n",
              "...       ...\n",
              "33501   50564\n",
              "41849   52000\n",
              "12272   27000\n",
              "21205   60000\n",
              "13490  120000\n",
              "\n",
              "[1000 rows x 1 columns]>"
            ]
          },
          "metadata": {},
          "execution_count": 14
        }
      ]
    },
    {
      "cell_type": "markdown",
      "metadata": {
        "id": "0MD6rBlR_TfP"
      },
      "source": [
        "Sampling Distribution of a Statistic"
      ]
    },
    {
      "cell_type": "code",
      "metadata": {
        "colab": {
          "base_uri": "https://localhost:8080/"
        },
        "id": "YXKhiBik2lyY",
        "outputId": "87ac90d5-3a25-4dc6-867f-3b685bd9927c"
      },
      "source": [
        "sample_mean_5 = samples.rolling(5).mean().x\n",
        "sample_mean_5 = sample_mean_5.dropna()\n",
        "sample_mean_5"
      ],
      "execution_count": null,
      "outputs": [
        {
          "output_type": "execute_result",
          "data": {
            "text/plain": [
              "9634     65200.0\n",
              "3976     71400.0\n",
              "967      69800.0\n",
              "12207    83800.0\n",
              "35820    77000.0\n",
              "          ...   \n",
              "33501    62640.8\n",
              "41849    61808.8\n",
              "12272    42208.8\n",
              "21205    45608.8\n",
              "13490    61912.8\n",
              "Name: x, Length: 996, dtype: float64"
            ]
          },
          "metadata": {},
          "execution_count": 10
        }
      ]
    },
    {
      "cell_type": "code",
      "metadata": {
        "colab": {
          "base_uri": "https://localhost:8080/"
        },
        "id": "S1gbD0yE356W",
        "outputId": "f852e42f-16b6-492f-eb19-9c7f61bad9fa"
      },
      "source": [
        "sample_mean_20 = samples.rolling(20).mean().x\n",
        "sample_mean_20 = sample_mean_20.dropna()\n",
        "sample_mean_20"
      ],
      "execution_count": null,
      "outputs": [
        {
          "output_type": "execute_result",
          "data": {
            "text/plain": [
              "42695    66081.4\n",
              "4512     64781.4\n",
              "8208     64181.4\n",
              "20585    64115.9\n",
              "3971     62815.9\n",
              "          ...   \n",
              "33501    73769.1\n",
              "41849    72284.1\n",
              "12272    70585.2\n",
              "21205    67835.2\n",
              "13490    70035.2\n",
              "Name: x, Length: 981, dtype: float64"
            ]
          },
          "metadata": {},
          "execution_count": 11
        }
      ]
    },
    {
      "cell_type": "code",
      "metadata": {
        "colab": {
          "base_uri": "https://localhost:8080/"
        },
        "id": "Fn2f8v7v37Au",
        "outputId": "9756e7d7-d99f-417a-ccc6-06d59584411e"
      },
      "source": [
        "sample_mean_30 = samples.rolling(30).mean().x\n",
        "sample_mean_30 = sample_mean_30.dropna()\n",
        "sample_mean_30"
      ],
      "execution_count": null,
      "outputs": [
        {
          "output_type": "execute_result",
          "data": {
            "text/plain": [
              "3807     67727.266667\n",
              "3010     67093.933333\n",
              "30153    66460.600000\n",
              "18405    67793.933333\n",
              "27921    68227.266667\n",
              "             ...     \n",
              "33501    76146.400000\n",
              "41849    75573.066667\n",
              "12272    74534.400000\n",
              "21205    75201.066667\n",
              "13490    75234.400000\n",
              "Name: x, Length: 971, dtype: float64"
            ]
          },
          "metadata": {},
          "execution_count": 12
        }
      ]
    },
    {
      "cell_type": "code",
      "metadata": {
        "colab": {
          "base_uri": "https://localhost:8080/",
          "height": 328
        },
        "id": "ZmHwq9EX8C6O",
        "outputId": "a2317e67-ab40-4347-f341-0ac771dc9886"
      },
      "source": [
        "fig = plt.figure(figsize=(10,10))\n",
        "ax = fig.add_subplot(2,2,1)\n",
        "ax.hist(loans_income.x,bins=25)\n",
        "plt.title('Full Plot of the whole DATAFRAME')"
      ],
      "execution_count": null,
      "outputs": [
        {
          "output_type": "execute_result",
          "data": {
            "text/plain": [
              "Text(0.5, 1.0, 'Full Plot of the whole DATAFRAME')"
            ]
          },
          "metadata": {},
          "execution_count": 19
        },
        {
          "output_type": "display_data",
          "data": {
            "image/png": "[encoded data removed]",
            "text/plain": [
              "<Figure size 720x720 with 1 Axes>"
            ]
          },
          "metadata": {
            "needs_background": "light"
          }
        }
      ]
    },
    {
      "cell_type": "code",
      "metadata": {
        "colab": {
          "base_uri": "https://localhost:8080/",
          "height": 607
        },
        "id": "3B6MxRwI4YxF",
        "outputId": "fae47b53-55af-459d-adeb-0816642956d4"
      },
      "source": [
        "fig = plt.figure(figsize=(10,10))\n",
        "#The full distribution of the plot:\n",
        "ax = fig.add_subplot(2,2,1)\n",
        "ax.hist(loans_income.x,bins=25)\n",
        "plt.title('Full Plot of the whole DATAFRAME')\n",
        "ax = fig.add_subplot(2,2,2)\n",
        "ax.hist(samples.x,bins=40)\n",
        "plt.title('Full Plot of the 1000 samples')\n",
        "ax = fig.add_subplot(2,2,3)\n",
        "ax.hist(sample_mean_5,bins=40)\n",
        "plt.title('Plot of Rolling Mean 5 of the 1000 samples')\n",
        "ax = fig.add_subplot(2,2,4)\n",
        "ax.hist(sample_mean_20,bins=40,label='Mean of 20')\n",
        "ax.hist(sample_mean_30,bins=40,label='Mean of 30')\n",
        "plt.title('Plot of Rolling Mean 20 and 30 of the 1000 samples')\n",
        "ax.legend()\n",
        "plt.show()\n",
        "\n",
        "plt.show()"
      ],
      "execution_count": null,
      "outputs": [
        {
          "output_type": "display_data",
          "data": {
            "image/png": "[encoded data removed]",
            "text/plain": [
              "<Figure size 720x720 with 4 Axes>"
            ]
          },
          "metadata": {
            "needs_background": "light"
          }
        }
      ]
    },
    {
      "cell_type": "markdown",
      "metadata": {
        "id": "4-txDX2o_Zqw"
      },
      "source": [
        "Population stats"
      ]
    },
    {
      "cell_type": "code",
      "metadata": {
        "colab": {
          "base_uri": "https://localhost:8080/"
        },
        "id": "0e2r1GtH-ZBS",
        "outputId": "4bb8b945-0625-42e0-af1e-fd91138a382d"
      },
      "source": [
        "print('Total Population STD : ',loans_income.x.std())\n",
        "print('Total Population Mean : ',loans_income.x.mean())\n",
        "print('Total Population Median : ',np.median(loans_income.x))\n",
        "print('Total Population Standard Error:',stats.sem(loans_income.x, ddof=1))"
      ],
      "execution_count": null,
      "outputs": [
        {
          "output_type": "stream",
          "name": "stdout",
          "text": [
            "Total Population STD :  32872.03536985002\n",
            "Total Population Mean :  68760.51844\n",
            "Total Population Median :  62000.0\n",
            "Total Population Standard Error: 147.00821129152527\n"
          ]
        }
      ]
    },
    {
      "cell_type": "markdown",
      "metadata": {
        "id": "2NPo_sC3_oxx"
      },
      "source": [
        "Bootstrapping for 1000,10000,20000 Samples"
      ]
    },
    {
      "cell_type": "code",
      "metadata": {
        "colab": {
          "base_uri": "https://localhost:8080/"
        },
        "id": "9C5r5E22_1xr",
        "outputId": "7243ed7f-b5ee-49b0-873f-77f418294542"
      },
      "source": [
        "bootstrap_1000 = np.random.choice(loans_income.x,size=1000,replace=True)\n",
        "bootstrap_10000 = np.random.choice(loans_income.x,size=10000,replace=True)\n",
        "bootstrap_20000 = np.random.choice(loans_income.x,size=20000,replace=True)\n",
        "arr_bootstraps = [bootstrap_1000,bootstrap_10000,bootstrap_20000]\n",
        "arr_bootstraps"
      ],
      "execution_count": null,
      "outputs": [
        {
          "output_type": "execute_result",
          "data": {
            "text/plain": [
              "[array([ 75000,  48000, 107000,  60324,  69500, 105000,  56000,  55000,\n",
              "         75000,  50000,  24000,  28000,  50000,  24000,  98004,  86500,\n",
              "         87000,  65000,  43000,  30000,  75000,  52000,  35000,  75000,\n",
              "         70000,  25000,  38000,  18000, 137000,  55000, 111700,  49000,\n",
              "        180000,  80000, 110000,  50000,  95000,  75000,  33000,  65000,\n",
              "         36000,  52000, 170000,  75000, 110000, 150000,  54000,  40000,\n",
              "         72500,  95000, 170000,  67000,  40000,  91000,  48500,  98000,\n",
              "        100000,  82000,  47000,  90000, 155000,  80000,  45000,  21912,\n",
              "         72000,  60000,  80000, 110520,  62000,  90000, 100000,  75000,\n",
              "        167000,  25000,  27000, 120000,  45000,  52000,  35000,  37500,\n",
              "         50000, 130000,  71000, 106552,  58000,  78000,  31000, 149000,\n",
              "         62000,  50000,  92000,  98000,  55000,  24000,  36000,  51000,\n",
              "         85000,  30000,  70000, 104500,  40000,  43500,  95000,  51000,\n",
              "         50000,  50000,  54800,  39000,  62000, 141675,  64000, 100000,\n",
              "         40000,  68000,  25000,  55000,  72000,  55000,  60000,  55000,\n",
              "         78670,  81000,  62908, 120000,  72000, 130000,  60000,  33500,\n",
              "         71375,  28000,  70000,  43000,  85000,  56000,  79130,  70740,\n",
              "         40800, 130000, 120000,  70000,  41000,  35651,  43000,  46500,\n",
              "         80000,  28000,  49000,  51000, 100000,  31200,  86000,  61000,\n",
              "         94000,  78000,  73363,  34000,  60000,  56000,  33990,  42000,\n",
              "         75000,  46000,  50000,  45000,  70200,  80000,  83000,  51854,\n",
              "         73400,  86500,  78500,  77000,  30000,  55109,  22000,  50000,\n",
              "         77022,  47500,  80000,  85000,  55000, 100000, 117000,  65000,\n",
              "         62000, 130000,  55000,  40000,  90750,  52000,  40000,  30000,\n",
              "         89000,  52000, 155000,  70000,  59196,  49918,  78312,  70000,\n",
              "         68250,  45000,  52000,  60000,  38000,  42760,  82000,  40000,\n",
              "         58000,  48602,  30000,  50000,  54000,  55000,  50000,  32500,\n",
              "         80000,  30000, 175000,  69500,  48000,  45000,  45000, 180000,\n",
              "         40000,  84700,  34171,  38000,  56000,  95000,  48000,  81000,\n",
              "         36000,  31000,  95000, 110000,  40000,  96000,  41308,  72000,\n",
              "         55000,  69000, 175000,  80000,  72900,  75000, 100000,  75000,\n",
              "         37440,  65000, 125000,  42000,  85000, 126000,  35000,  30000,\n",
              "         62000,  30000, 135000,  32000,  41600, 100000,  16800,  72000,\n",
              "        165000,  50000,  62833, 118000, 135000,  45000, 105000,  38000,\n",
              "         62000,  60000,  50000,  65000, 100000,  80000,  60000,  37800,\n",
              "         60000,  30444,  30000,  20000,  52000,  57000,  70000,  54000,\n",
              "         71554,  46900, 102489,  84000,  43000,  80000, 196000,  81000,\n",
              "         65000,  65000,  58000, 124384, 118000,  80000,  79900,  45000,\n",
              "         83800,  50000,  90000,  82000,  72000,  55000,  92000,  54500,\n",
              "         14400, 165000,  85000,  80000,  20000,  18108,  61500,  25200,\n",
              "         65000, 100000, 125000,  36500, 162000, 150000,  78800,  50122,\n",
              "         53000,  56537, 142100,  52000,  32000,  41000,  71000,  46000,\n",
              "        194000, 165000,  20458,  25000,  55000,  35000,  48000,  85000,\n",
              "         80000,  97000,  83000, 130000,  88000, 156000,  27000,  45600,\n",
              "         82000,  34000,  83500,  96000,  55000,  34000,  71060,  66000,\n",
              "         90000, 124000,  42000,  71000,  35000, 100000,  32000,  30218,\n",
              "        100000,  64750, 109000,  93000, 102000, 110000, 100000,  35000,\n",
              "         79000,  80500,  40000, 145000,  22000,  40000, 190000,  60000,\n",
              "         90000,  73000, 175000,  82500,  66000, 110000,  34000,  22000,\n",
              "         25000,  55000,  52595,  70800,  32000,  72000,  60000,  80000,\n",
              "         92000,  70000,  84000,  79130,  60000, 109000,  60000,  72000,\n",
              "         39390,  56000,  40000,  30000,  25000,  91000,  47000,  69360,\n",
              "         54000,  65000,  80000,  92000,  55000,  29577,  61500, 110000,\n",
              "         50000,  60000,  50000,  70000,  73200,  74600,  70000,  67500,\n",
              "         95000, 170000, 110000,  53000,  33000,  81785,  56000, 115000,\n",
              "         72000,  70000,  45000,  96000, 175000,  58000,  31000,  57000,\n",
              "         60000,  42500,  34000,  80000,  30000,  98500,  28000,  48000,\n",
              "         83000, 108000,  25064, 140000,  95000,  24000,  74000,  60000,\n",
              "         57000,  48000,  90000,  90000,  50700,  53000,  41000,  40000,\n",
              "        129000,  36000,  42000,  45000,  56000,  70000,  42000,  46000,\n",
              "         90000,  30000,  90000,  54700,  47000,  50000,  60000,  40000,\n",
              "         57000,  41150,  50000,  48000,  28000,  82000,  44000,  19464,\n",
              "         58000,  48000,  66000,  42000,  60000,  52282, 131000, 100000,\n",
              "         75000,  32000,  36000,  55000,  79000,  60000,  43452,  60000,\n",
              "         86000,  65000,  45000,  40000,  32300,  70000,  50000,  75000,\n",
              "         71000,  50000, 136400, 100000,  45000, 110496, 105120,  27000,\n",
              "         98000,  58000,  85000,  67000, 120000,  70000,  95000, 113000,\n",
              "         60000,  50000,  50000, 100000,  60000,  56000,  60000,  60000,\n",
              "         42000,  70000,  61234, 117000,  50000,  65000, 116000,  32400,\n",
              "         40000,  40000,  85000,  24000,  40000,  50000,  62000,  56000,\n",
              "         60000,  90000,  43000,  28000,  54000,  45000,  89000,  35251,\n",
              "         90000,  38000,  40000,  50000,  42000,  44160,  40000,  14760,\n",
              "         88400,  60000,  95000,  40000,  70000,  65000,  45000,  45000,\n",
              "         40500,  75000,  35000,  47885,  46960,  35000, 145000, 135000,\n",
              "         75000,  46000,  32000, 100000,  18724,  80000,  45000,  62000,\n",
              "         28000,  36000,  80000,  83000,  48840,  35000,  62900, 103000,\n",
              "         32000,  85000,  24000,  60000, 125000,  77200, 101000, 130000,\n",
              "         51000,  39000, 100000,  51000,  75000,  36000,  95000,  48000,\n",
              "         25000,  34000,  50000,  60000,  70000,  51000, 110000,  60000,\n",
              "         60000,  70000,  62000,  60000,  40000,  52000,  76500,  75000,\n",
              "         70000,  71000, 130000,  38412,  78000, 108000,  36000, 150000,\n",
              "         27000, 120000,  40000,  35000,  58368,  59000, 130000,  64000,\n",
              "         22000,  36000,  55000, 132600,  35000, 175000, 103000,  31000,\n",
              "         75500, 120000,  55000,  74000,  32000, 110000,  42000,  58000,\n",
              "         55000,  20000,  66000, 120000,  50000,  78000,  46500, 167000,\n",
              "         50000,  42000,  65000, 139008,  57000, 100000,  25000,  31000,\n",
              "         35000,  62060, 118779,  88000,  70000,  68100,  40000,  32000,\n",
              "         40000,  29000,  68590,  41600, 180000,  61200,  54500,  41000,\n",
              "         26000,  41000,  75000,  95644,  79475,  97400,  85000,  35000,\n",
              "         84000,  56000,  86000,  30000,  74000,  84000,  55200, 190000,\n",
              "         93000,  65000,  43000,  85000,  50000,  75999, 103000,  59700,\n",
              "         45000,  67000,  54000,  40000,  54704,  45000,  50000,  25000,\n",
              "         44160,  52000,  47000,  15000,  40000,  44160,  91000, 175000,\n",
              "        125000,  56000,  55000,  40000,  70000,  75000, 110000,  52000,\n",
              "         32000,  36000, 165000,  60981,  75000, 115000,  55000, 100000,\n",
              "         68880,  45000,  35000,  38000,   9936, 160000,  76800,  42000,\n",
              "         42840,  73000,  81000,  50000,  80000, 113000,  19500,  32000,\n",
              "         58000,  50000,  43452,  53111,  48000,  40000,  51000,  46000,\n",
              "        146085,  78000,  85000,  32000, 140000,  62400,  62836,  23964,\n",
              "        120000, 103000,  52645, 123504,  45000, 124000,  75000,  48000,\n",
              "         39996,  67600,  42000,  50000,  65000,  65000, 125000,  66756,\n",
              "        180000,  75000,  65000,  52000,  29004,  28800,  56000,  58900,\n",
              "        110000, 145000, 123000,  77600,  45000, 100000, 128000,  26600,\n",
              "         63000,  63000,  83000,  46800,  24000,  45000,  40000,  66000,\n",
              "         53000,  54000,  28000,  13500,  99000,  46100,  30000,  84708,\n",
              "         65000, 100000,  40000,  70000,  28000,  55000,  33000,  12000,\n",
              "         42000,  95000,  40000,  85000,  40000,  46000,  85000,  70000,\n",
              "         40000,  37000,  47000,  30000,  36000,  60000,  56000,  60000,\n",
              "         72800,  45000,  30600,  50000, 105000,  37000,  33000,  56000,\n",
              "        110000, 130000, 120000,  73000,  50000, 125000,  50000, 175000,\n",
              "         68000,  40300,  81600,  42000,  55000,  66000,  60000,  24960,\n",
              "         79000,  55000,  65000,  27000,  75000,  38400,  75000,  45000,\n",
              "         75000,  45000,  28200,  43500,  75900,  27000,  36000,  40000,\n",
              "         80000,  95000,  84700,  80000,  60000,  55000,  33000, 130800,\n",
              "         57890,  54000,  93745,  60000,  70000,  18000,  40000,  35000,\n",
              "        125600,  40000,  53000,  78000,  60000,  70399,  67000,  42090,\n",
              "         50000,  75000,  80000,  70000,  65000, 110422,  80000, 170000,\n",
              "         55000, 110000,  16000, 120000,  30000,  70000,  33600,  56000,\n",
              "         87609,  36396,  52000,  80000, 112860,  68000,  40000, 125000,\n",
              "         50000, 118000,  37488,  55000,  68400,  55000,  84500,  68387,\n",
              "         65000,  62000,  42000,  52000,  40000,  63000,  56000,  59000,\n",
              "         50000,  40000,  30312, 120000, 126000,  98800,  40800,  75000,\n",
              "         55000,  50000,  33000,  65000,  72000, 150000,  34278,  47000,\n",
              "         60000,  70000,  61200,  45000,  36000,  79000,  65000,  55000,\n",
              "         80000, 125000,  69996, 130000, 127000,  82000,  62000,  55000]),\n",
              " array([75000, 55000, 29970, ..., 38000, 80000, 42500]),\n",
              " array([ 26000,  75000, 117000, ..., 120000,  80000,  74000])]"
            ]
          },
          "metadata": {},
          "execution_count": 22
        }
      ]
    },
    {
      "cell_type": "code",
      "metadata": {
        "colab": {
          "base_uri": "https://localhost:8080/"
        },
        "id": "Q6yojmaa_kzD",
        "outputId": "a3c86333-2cdf-40fd-937b-0432ac5e7bba"
      },
      "source": [
        "bootstrap_1000 = np.random.choice(loans_income.x,size=1000,replace=True)\n",
        "bootstrap_10000 = np.random.choice(loans_income.x,size=10000,replace=True)\n",
        "bootstrap_20000 = np.random.choice(loans_income.x,size=20000,replace=True)\n",
        "arr_bootstraps = [bootstrap_1000,bootstrap_10000,bootstrap_20000]\n",
        "len(arr_bootstraps)"
      ],
      "execution_count": null,
      "outputs": [
        {
          "output_type": "execute_result",
          "data": {
            "text/plain": [
              "3"
            ]
          },
          "metadata": {},
          "execution_count": 21
        }
      ]
    },
    {
      "cell_type": "markdown",
      "metadata": {
        "id": "9P8J7-VKFWsI"
      },
      "source": [
        "Long-tailed Distributions and QQ-Plot"
      ]
    },
    {
      "cell_type": "code",
      "metadata": {
        "colab": {
          "base_uri": "https://localhost:8080/",
          "height": 129
        },
        "id": "w0QUPF3FFN9-",
        "outputId": "88fb59dd-6ab0-4af5-f9bd-35c9d76c8c46"
      },
      "source": [
        "stats.probplot(loans_income.x, dist=\"norm\", plot=pylab\n",
        "pylab.show()"
      ],
      "execution_count": null,
      "outputs": [
        {
          "output_type": "error",
          "ename": "SyntaxError",
          "evalue": "ignored",
          "traceback": [
            "\u001b[0;36m  File \u001b[0;32m\"<ipython-input-25-e2116c528caa>\"\u001b[0;36m, line \u001b[0;32m2\u001b[0m\n\u001b[0;31m    pylab.show()\u001b[0m\n\u001b[0m        ^\u001b[0m\n\u001b[0;31mSyntaxError\u001b[0m\u001b[0;31m:\u001b[0m invalid syntax\n"
          ]
        }
      ]
    },
    {
      "cell_type": "code",
      "metadata": {
        "colab": {
          "base_uri": "https://localhost:8080/",
          "height": 295
        },
        "id": "F5mKNeQrFVn2",
        "outputId": "27323440-cc2a-478f-e98e-a88fa665f7b4"
      },
      "source": [
        "measurements = np.random.normal(loc = 20, scale = 5, size=100)   \n",
        "stats.probplot(measurements, dist=\"norm\", plot=pylab)\n",
        "pylab.show()"
      ],
      "execution_count": null,
      "outputs": [
        {
          "output_type": "display_data",
          "data": {
            "image/png": "[encoded data removed]",
            "text/plain": [
              "<Figure size 432x288 with 1 Axes>"
            ]
          },
          "metadata": {
            "needs_background": "light"
          }
        }
      ]
    },
    {
      "cell_type": "code",
      "metadata": {
        "colab": {
          "base_uri": "https://localhost:8080/",
          "height": 295
        },
        "id": "DjoneM-2FjlN",
        "outputId": "03a997e7-2015-41c4-d282-94d94133dd0d"
      },
      "source": [
        "nflx = sp500_px.loc[:,'NFLX']\n",
        "stats.probplot(nflx, dist=\"norm\", plot=pylab)\n",
        "pylab.show()"
      ],
      "execution_count": null,
      "outputs": [
        {
          "output_type": "display_data",
          "data": {
            "image/png": "[encoded data removed]",
            "text/plain": [
              "<Figure size 432x288 with 1 Axes>"
            ]
          },
          "metadata": {
            "needs_background": "light"
          }
        }
      ]
    },
    {
      "cell_type": "code",
      "metadata": {
        "colab": {
          "base_uri": "https://localhost:8080/",
          "height": 417
        },
        "id": "yIzXtJ0zF8YQ",
        "outputId": "046f93ff-a9a8-4cf9-b992-a40dcd1dcec8"
      },
      "source": [
        "treated_nflx = np.diff(np.log(nflx))\n",
        "stats.probplot(treated_nflx, dist=\"norm\", plot=pylab,fit=True)\n",
        "pylab.show()"
      ],
      "execution_count": null,
      "outputs": [
        {
          "output_type": "stream",
          "name": "stderr",
          "text": [
            "/usr/local/lib/python3.7/dist-packages/pandas/core/series.py:726: RuntimeWarning: divide by zero encountered in log\n",
            "  result = getattr(ufunc, method)(*inputs, **kwargs)\n",
            "/usr/local/lib/python3.7/dist-packages/pandas/core/series.py:726: RuntimeWarning: invalid value encountered in log\n",
            "  result = getattr(ufunc, method)(*inputs, **kwargs)\n",
            "/usr/local/lib/python3.7/dist-packages/numpy/lib/function_base.py:1280: RuntimeWarning: invalid value encountered in subtract\n",
            "  a = op(a[slice1], a[slice2])\n"
          ]
        },
        {
          "output_type": "display_data",
          "data": {
            "image/png": "[encoded data removed]",
            "text/plain": [
              "<Figure size 432x288 with 1 Axes>"
            ]
          },
          "metadata": {
            "needs_background": "light"
          }
        }
      ]
    }
  ]
}