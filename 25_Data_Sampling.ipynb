{
  "nbformat": 4,
  "nbformat_minor": 0,
  "metadata": {
    "colab": {
      "name": "25_Data Sampling.ipynb",
      "provenance": [],
      "collapsed_sections": []
    },
    "kernelspec": {
      "name": "python3",
      "display_name": "Python 3"
    },
    "language_info": {
      "name": "python"
    }
  },
  "cells": [
    {
      "cell_type": "code",
      "metadata": {
        "id": "DpsjhdIdYGAa"
      },
      "source": [
        "import pandas as pd\n",
        "import numpy as np\n",
        "import scipy.stats as stats\n",
        "from scipy.stats import binom\n",
        "import seaborn as sns\n",
        "import pylab\n",
        "\n",
        "import matplotlib.pyplot as plt\n",
        "%matplotlib inline"
      ],
      "execution_count": 1,
      "outputs": []
    },
    {
      "cell_type": "code",
      "metadata": {
        "id": "hEkLBA_hcNa5"
      },
      "source": [
        "loans_income = pd.read_csv('/content/sample_data/loans_income.csv')\n",
        "sp500_px = pd.read_csv('/content/sample_data/sp500_px.csv')"
      ],
      "execution_count": 4,
      "outputs": []
    },
    {
      "cell_type": "code",
      "metadata": {
        "colab": {
          "base_uri": "https://localhost:8080/",
          "height": 419
        },
        "id": "mNEPuuZwcnMs",
        "outputId": "f3ce1d3e-52a5-470e-e765-29340a668371"
      },
      "source": [
        "#Take a 1000 Samples\n",
        "samples = loans_income.sample(n=1000)\n",
        "samples"
      ],
      "execution_count": 5,
      "outputs": [
        {
          "output_type": "execute_result",
          "data": {
            "text/html": [
              "<div>\n",
              "<style scoped>\n",
              "    .dataframe tbody tr th:only-of-type {\n",
              "        vertical-align: middle;\n",
              "    }\n",
              "\n",
              "    .dataframe tbody tr th {\n",
              "        vertical-align: top;\n",
              "    }\n",
              "\n",
              "    .dataframe thead th {\n",
              "        text-align: right;\n",
              "    }\n",
              "</style>\n",
              "<table border=\"1\" class=\"dataframe\">\n",
              "  <thead>\n",
              "    <tr style=\"text-align: right;\">\n",
              "      <th></th>\n",
              "      <th>x</th>\n",
              "    </tr>\n",
              "  </thead>\n",
              "  <tbody>\n",
              "    <tr>\n",
              "      <th>19220</th>\n",
              "      <td>40000</td>\n",
              "    </tr>\n",
              "    <tr>\n",
              "      <th>38111</th>\n",
              "      <td>27336</td>\n",
              "    </tr>\n",
              "    <tr>\n",
              "      <th>5286</th>\n",
              "      <td>65000</td>\n",
              "    </tr>\n",
              "    <tr>\n",
              "      <th>42101</th>\n",
              "      <td>86000</td>\n",
              "    </tr>\n",
              "    <tr>\n",
              "      <th>22668</th>\n",
              "      <td>105000</td>\n",
              "    </tr>\n",
              "    <tr>\n",
              "      <th>...</th>\n",
              "      <td>...</td>\n",
              "    </tr>\n",
              "    <tr>\n",
              "      <th>44645</th>\n",
              "      <td>73000</td>\n",
              "    </tr>\n",
              "    <tr>\n",
              "      <th>39391</th>\n",
              "      <td>50000</td>\n",
              "    </tr>\n",
              "    <tr>\n",
              "      <th>5248</th>\n",
              "      <td>140000</td>\n",
              "    </tr>\n",
              "    <tr>\n",
              "      <th>40193</th>\n",
              "      <td>80000</td>\n",
              "    </tr>\n",
              "    <tr>\n",
              "      <th>25191</th>\n",
              "      <td>40000</td>\n",
              "    </tr>\n",
              "  </tbody>\n",
              "</table>\n",
              "<p>1000 rows × 1 columns</p>\n",
              "</div>"
            ],
            "text/plain": [
              "            x\n",
              "19220   40000\n",
              "38111   27336\n",
              "5286    65000\n",
              "42101   86000\n",
              "22668  105000\n",
              "...       ...\n",
              "44645   73000\n",
              "39391   50000\n",
              "5248   140000\n",
              "40193   80000\n",
              "25191   40000\n",
              "\n",
              "[1000 rows x 1 columns]"
            ]
          },
          "metadata": {},
          "execution_count": 5
        }
      ]
    },
    {
      "cell_type": "code",
      "metadata": {
        "colab": {
          "base_uri": "https://localhost:8080/"
        },
        "id": "i8D9ZDIMc3ro",
        "outputId": "196130a6-ffc7-46d7-fcc2-f0ae9ff4c806"
      },
      "source": [
        "samples.shape"
      ],
      "execution_count": 6,
      "outputs": [
        {
          "output_type": "execute_result",
          "data": {
            "text/plain": [
              "(1000, 1)"
            ]
          },
          "metadata": {},
          "execution_count": 6
        }
      ]
    },
    {
      "cell_type": "code",
      "metadata": {
        "colab": {
          "base_uri": "https://localhost:8080/"
        },
        "id": "KpJlXiPxc8mm",
        "outputId": "f7391e08-d25a-4cb4-ca6c-01c57f8cc6cc"
      },
      "source": [
        "samples.head"
      ],
      "execution_count": 7,
      "outputs": [
        {
          "output_type": "execute_result",
          "data": {
            "text/plain": [
              "<bound method NDFrame.head of             x\n",
              "19220   40000\n",
              "38111   27336\n",
              "5286    65000\n",
              "42101   86000\n",
              "22668  105000\n",
              "...       ...\n",
              "44645   73000\n",
              "39391   50000\n",
              "5248   140000\n",
              "40193   80000\n",
              "25191   40000\n",
              "\n",
              "[1000 rows x 1 columns]>"
            ]
          },
          "metadata": {},
          "execution_count": 7
        }
      ]
    },
    {
      "cell_type": "code",
      "metadata": {
        "colab": {
          "base_uri": "https://localhost:8080/"
        },
        "id": "-NMWpgpxdBKc",
        "outputId": "b6a2511b-73c2-45b8-ed99-3f5ddf08f0a7"
      },
      "source": [
        "#mean of 5 numbers\n",
        "sample_mean_5 = samples.rolling(5).mean().x\n",
        "sample_mean_5 = sample_mean_5.dropna()\n",
        "sample_mean_5"
      ],
      "execution_count": 8,
      "outputs": [
        {
          "output_type": "execute_result",
          "data": {
            "text/plain": [
              "22668    64667.2\n",
              "13109    64467.2\n",
              "35618    68740.2\n",
              "11346    77740.2\n",
              "17877    75396.2\n",
              "          ...   \n",
              "44645    66900.0\n",
              "39391    65900.0\n",
              "5248     78900.0\n",
              "40193    82900.0\n",
              "25191    76600.0\n",
              "Name: x, Length: 996, dtype: float64"
            ]
          },
          "metadata": {},
          "execution_count": 8
        }
      ]
    },
    {
      "cell_type": "code",
      "metadata": {
        "colab": {
          "base_uri": "https://localhost:8080/"
        },
        "id": "de7PAs3Ldpu8",
        "outputId": "db9ccf99-1bec-4a15-d691-070e2f975c64"
      },
      "source": [
        "#mean of 20 numbers\n",
        "sample_mean_20 = samples.rolling(20).mean().x\n",
        "sample_mean_20 = sample_mean_20.dropna()\n",
        "sample_mean_20"
      ],
      "execution_count": 9,
      "outputs": [
        {
          "output_type": "execute_result",
          "data": {
            "text/plain": [
              "4245     71162.15\n",
              "44525    70440.55\n",
              "1874     72573.75\n",
              "26823    72143.75\n",
              "18992    71093.75\n",
              "           ...   \n",
              "44645    73330.30\n",
              "39391    73580.30\n",
              "5248     77830.30\n",
              "40193    79651.50\n",
              "25191    74651.50\n",
              "Name: x, Length: 981, dtype: float64"
            ]
          },
          "metadata": {},
          "execution_count": 9
        }
      ]
    },
    {
      "cell_type": "code",
      "metadata": {
        "colab": {
          "base_uri": "https://localhost:8080/"
        },
        "id": "gv4TQtRQdvaP",
        "outputId": "768215ff-b8b1-4a38-b1b2-30b869a0d56c"
      },
      "source": [
        "# mean of 30 numbers\n",
        "sample_mean_30 = samples.rolling(30).mean().x\n",
        "sample_mean_30 = sample_mean_30.dropna()\n",
        "sample_mean_30"
      ],
      "execution_count": 10,
      "outputs": [
        {
          "output_type": "execute_result",
          "data": {
            "text/plain": [
              "14705    75239.700000\n",
              "17448    76739.700000\n",
              "49442    77661.833333\n",
              "39713    79095.166667\n",
              "24078    79228.500000\n",
              "             ...     \n",
              "44645    70773.533333\n",
              "39391    69773.533333\n",
              "5248     71940.200000\n",
              "40193    72773.533333\n",
              "25191    70440.200000\n",
              "Name: x, Length: 971, dtype: float64"
            ]
          },
          "metadata": {},
          "execution_count": 10
        }
      ]
    },
    {
      "cell_type": "code",
      "metadata": {
        "colab": {
          "base_uri": "https://localhost:8080/",
          "height": 607
        },
        "id": "xkVL-R7dd7LR",
        "outputId": "419bfc79-26a9-4028-9489-26be4a7dc45d"
      },
      "source": [
        "fig = plt.figure(figsize=(10,10))\n",
        "#The full distribution of the plot:\n",
        "ax = fig.add_subplot(2,2,1)\n",
        "ax.hist(loans_income.x,bins=25)\n",
        "plt.title('Full Plot of the whole DATAFRAME')\n",
        "\n",
        "#distribution of 1000 samples:\n",
        "\n",
        "ax = fig.add_subplot(2,2,2)\n",
        "ax.hist(samples.x,bins=40)\n",
        "plt.title('Full Plot of the 1000 samples')\n",
        "\n",
        "#distribution of means of 5 numbers from 1000 samples:\n",
        "ax = fig.add_subplot(2,2,3)\n",
        "ax.hist(sample_mean_5,bins=40)\n",
        "plt.title('Plot of Rolling Mean 5 of the 1000 samples')\n",
        "\n",
        "#distribution of means of 20 numbers from 1000 samples:\n",
        "ax = fig.add_subplot(2,2,4)\n",
        "ax.hist(sample_mean_20,bins=40,label='Mean of 20')\n",
        "ax.hist(sample_mean_30,bins=40,label='Mean of 30')\n",
        "plt.title('Plot of Rolling Mean 20 and 30 of the 1000 samples')\n",
        "ax.legend()\n",
        "plt.show()\n",
        "\n",
        "plt.show()\n"
      ],
      "execution_count": 11,
      "outputs": [
        {
          "output_type": "display_data",
          "data": {
            "image/png": "[encoded data removed]",
            "text/plain": [
              "<Figure size 720x720 with 4 Axes>"
            ]
          },
          "metadata": {
            "needs_background": "light"
          }
        }
      ]
    },
    {
      "cell_type": "code",
      "metadata": {
        "colab": {
          "base_uri": "https://localhost:8080/"
        },
        "id": "YajkEVQJeGX1",
        "outputId": "052143b2-b1cd-4d25-c5e8-c57a7d8705a6"
      },
      "source": [
        "#Calculating a rolling mean:\n",
        "print('Total Population STD : ',loans_income.x.std())\n",
        "print('Total Population Mean : ',loans_income.x.mean())\n",
        "print('Total Population Median : ',np.median(loans_income.x))\n",
        "print('Total Population Standard Error:',stats.sem(loans_income.x, ddof=1))"
      ],
      "execution_count": 12,
      "outputs": [
        {
          "output_type": "stream",
          "name": "stdout",
          "text": [
            "Total Population STD :  32872.03536985002\n",
            "Total Population Mean :  68760.51844\n",
            "Total Population Median :  62000.0\n",
            "Total Population Standard Error: 147.00821129152527\n"
          ]
        }
      ]
    },
    {
      "cell_type": "code",
      "metadata": {
        "colab": {
          "base_uri": "https://localhost:8080/"
        },
        "id": "-sIU01LheOvW",
        "outputId": "496cae43-dd1d-4906-d067-d236f19d2416"
      },
      "source": [
        "bootstrap_1000 = np.random.choice(loans_income.x,size=1000,replace=True)\n",
        "bootstrap_10000 = np.random.choice(loans_income.x,size=10000,replace=True)\n",
        "bootstrap_20000 = np.random.choice(loans_income.x,size=20000,replace=True)\n",
        "arr_bootstraps = [bootstrap_1000,bootstrap_10000,bootstrap_20000]\n",
        "len(arr_bootstraps)"
      ],
      "execution_count": 13,
      "outputs": [
        {
          "output_type": "execute_result",
          "data": {
            "text/plain": [
              "3"
            ]
          },
          "metadata": {},
          "execution_count": 13
        }
      ]
    },
    {
      "cell_type": "code",
      "metadata": {
        "colab": {
          "base_uri": "https://localhost:8080/"
        },
        "id": "K9aP61i0eVA9",
        "outputId": "09db94a3-4582-4723-b958-2368aa3b0327"
      },
      "source": [
        "#Calculating a rolling mean:\n",
        "for i in range(len(arr_bootstraps)):\n",
        "    print('Bootstrap Stats for {} examples \\n'.format(len(arr_bootstraps[i])))\n",
        "    print('------------------------------------------------------------------------------\\n')\n",
        "    print('Bootstrap STD : ',np.std(arr_bootstraps[i],ddof=1))\n",
        "    print('Bootstrap Mean : ',np.mean(arr_bootstraps[i]))\n",
        "    print('Bootstrap Median: ',np.median(arr_bootstraps[i]))\n",
        "    print('Boostrap Bias, ',loans_income.x.mean() - np.mean(arr_bootstraps[i],axis=0))\n",
        "    print('Standard Error:',stats.sem(arr_bootstraps[i], ddof=1))\n",
        "    print('\\n------------------------------------------------------------------------------\\n')"
      ],
      "execution_count": 14,
      "outputs": [
        {
          "output_type": "stream",
          "name": "stdout",
          "text": [
            "Bootstrap Stats for 1000 examples \n",
            "\n",
            "------------------------------------------------------------------------------\n",
            "\n",
            "Bootstrap STD :  33848.76769437629\n",
            "Bootstrap Mean :  68119.976\n",
            "Bootstrap Median:  60000.0\n",
            "Boostrap Bias,  640.5424400000047\n",
            "Standard Error: 1070.3920190415529\n",
            "\n",
            "------------------------------------------------------------------------------\n",
            "\n",
            "Bootstrap Stats for 10000 examples \n",
            "\n",
            "------------------------------------------------------------------------------\n",
            "\n",
            "Bootstrap STD :  32614.81066159466\n",
            "Bootstrap Mean :  68636.8429\n",
            "Bootstrap Median:  62000.0\n",
            "Boostrap Bias,  123.67553999999654\n",
            "Standard Error: 326.1481066159466\n",
            "\n",
            "------------------------------------------------------------------------------\n",
            "\n",
            "Bootstrap Stats for 20000 examples \n",
            "\n",
            "------------------------------------------------------------------------------\n",
            "\n",
            "Bootstrap STD :  32748.17706882234\n",
            "Bootstrap Mean :  68554.04975\n",
            "Bootstrap Median:  62000.0\n",
            "Boostrap Bias,  206.46868999999424\n",
            "Standard Error: 231.56458076862071\n",
            "\n",
            "------------------------------------------------------------------------------\n",
            "\n"
          ]
        }
      ]
    },
    {
      "cell_type": "code",
      "metadata": {
        "colab": {
          "base_uri": "https://localhost:8080/",
          "height": 129
        },
        "id": "u7vkTv0geagt",
        "outputId": "3149256d-f369-4bf1-bd1f-a13a2135b242"
      },
      "source": [
        "stats.probplot(loans_income.x, dist=\"norm\", plot=pylab\n",
        "pylab.show()"
      ],
      "execution_count": 15,
      "outputs": [
        {
          "output_type": "error",
          "ename": "SyntaxError",
          "evalue": "ignored",
          "traceback": [
            "\u001b[0;36m  File \u001b[0;32m\"<ipython-input-15-e2116c528caa>\"\u001b[0;36m, line \u001b[0;32m2\u001b[0m\n\u001b[0;31m    pylab.show()\u001b[0m\n\u001b[0m        ^\u001b[0m\n\u001b[0;31mSyntaxError\u001b[0m\u001b[0;31m:\u001b[0m invalid syntax\n"
          ]
        }
      ]
    },
    {
      "cell_type": "code",
      "metadata": {
        "colab": {
          "base_uri": "https://localhost:8080/",
          "height": 295
        },
        "id": "gpl5NgfTesKE",
        "outputId": "20231308-3c99-475a-9c6b-f0678d448deb"
      },
      "source": [
        "measurements = np.random.normal(loc = 20, scale = 5, size=100)   \n",
        "stats.probplot(measurements, dist=\"norm\", plot=pylab)\n",
        "pylab.show()"
      ],
      "execution_count": 16,
      "outputs": [
        {
          "output_type": "display_data",
          "data": {
            "image/png": "[encoded data removed]",
            "text/plain": [
              "<Figure size 432x288 with 1 Axes>"
            ]
          },
          "metadata": {
            "needs_background": "light"
          }
        }
      ]
    },
    {
      "cell_type": "code",
      "metadata": {
        "id": "LvCtf-mPevjU"
      },
      "source": [
        "nflx = sp500_px.loc[:,'NFLX']"
      ],
      "execution_count": 17,
      "outputs": []
    },
    {
      "cell_type": "code",
      "metadata": {
        "colab": {
          "base_uri": "https://localhost:8080/",
          "height": 295
        },
        "id": "5InKBAnLez1f",
        "outputId": "1da7955f-e451-4559-f931-6869bba691c5"
      },
      "source": [
        "stats.probplot(nflx, dist=\"norm\", plot=pylab)\n",
        "pylab.show()"
      ],
      "execution_count": 18,
      "outputs": [
        {
          "output_type": "display_data",
          "data": {
            "image/png": "[encoded data removed]",
            "text/plain": [
              "<Figure size 432x288 with 1 Axes>"
            ]
          },
          "metadata": {
            "needs_background": "light"
          }
        }
      ]
    },
    {
      "cell_type": "code",
      "metadata": {
        "colab": {
          "base_uri": "https://localhost:8080/",
          "height": 417
        },
        "id": "bjO9CMwme3g-",
        "outputId": "ff38a7fd-6080-47be-b08f-c7295f2c747a"
      },
      "source": [
        "# After standardizing tread\n",
        "\n",
        "treated_nflx = np.diff(np.log(nflx))\n",
        "stats.probplot(treated_nflx, dist=\"norm\", plot=pylab,fit=True)\n",
        "pylab.show()"
      ],
      "execution_count": 19,
      "outputs": [
        {
          "output_type": "stream",
          "name": "stderr",
          "text": [
            "/usr/local/lib/python3.7/dist-packages/pandas/core/series.py:726: RuntimeWarning: divide by zero encountered in log\n",
            "  result = getattr(ufunc, method)(*inputs, **kwargs)\n",
            "/usr/local/lib/python3.7/dist-packages/pandas/core/series.py:726: RuntimeWarning: invalid value encountered in log\n",
            "  result = getattr(ufunc, method)(*inputs, **kwargs)\n",
            "/usr/local/lib/python3.7/dist-packages/numpy/lib/function_base.py:1280: RuntimeWarning: invalid value encountered in subtract\n",
            "  a = op(a[slice1], a[slice2])\n"
          ]
        },
        {
          "output_type": "display_data",
          "data": {
            "image/png": "[encoded data removed]",
            "text/plain": [
              "<Figure size 432x288 with 1 Axes>"
            ]
          },
          "metadata": {
            "needs_background": "light"
          }
        }
      ]
    }
  ]
}